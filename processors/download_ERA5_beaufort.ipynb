{
 "cells": [
  {
   "cell_type": "code",
   "execution_count": 10,
   "id": "9d2b2189",
   "metadata": {},
   "outputs": [
    {
     "name": "stderr",
     "output_type": "stream",
     "text": [
      "2021-06-17 21:34:22,900 INFO Welcome to the CDS\n",
      "2021-06-17 21:34:22,931 INFO Sending request to https://cds.climate.copernicus.eu/api/v2/resources/reanalysis-era5-single-levels\n",
      "2021-06-17 21:34:23,159 INFO Request is queued\n",
      "2021-06-17 21:34:24,204 INFO Request is running\n",
      "2021-06-17 21:35:38,425 INFO Request is completed\n",
      "2021-06-17 21:35:38,449 INFO Downloading https://download-0007.copernicus-climate.eu/cache-compute-0007/cache/data4/adaptor.mars.internal-1623962063.1966465-24720-26-83e0130f-4b6d-44a3-baf5-655fa848fda8.nc to /media/robbie/TOSHIBA EXT/E5/2021_b.nc (627.5M)\n",
      "2021-06-17 21:44:56,461 INFO Download rate 1.1M/s     \n"
     ]
    }
   ],
   "source": [
    "import cdsapi\n",
    "\n",
    "c = cdsapi.Client()\n",
    "\n",
    "# years = reversed(np.arange(1992,2021))\n",
    "\n",
    "for year in [2021]:\n",
    "    \n",
    "    year = str(year)\n",
    "    \n",
    "    c.retrieve(\n",
    "        'reanalysis-era5-single-levels',\n",
    "        {\n",
    "            'product_type': 'reanalysis',\n",
    "            'format': 'netcdf',\n",
    "            'variable': [\n",
    "                '10m_u_component_of_wind',\n",
    "                '10m_v_component_of_wind',\n",
    "                '2m_temperature',\n",
    "                'mean_sea_level_pressure',\n",
    "            ],\n",
    "            \n",
    "            'year': year,\n",
    "            'month': [\n",
    "                '01', '02', \n",
    "#                 '03',\n",
    "#                 '04', '05', '06',\n",
    "#                 '07', '08', '09',\n",
    "#                 '10', '11', '12',\n",
    "            ],\n",
    "            'day': [\n",
    "                '01', '02', '03',\n",
    "                '04', '05', '06',\n",
    "                '07', '08', '09',\n",
    "                '10', '11', '12',\n",
    "                '13', '14', '15',\n",
    "                '16', '17', '18',\n",
    "                '19', '20', '21',\n",
    "                '22', '23', '24',\n",
    "                '25', '26', '27',\n",
    "                '28', '29', '30',\n",
    "                '31',\n",
    "            ],\n",
    "            'time': [\n",
    "                '00:00',\n",
    "                '03:00',\n",
    "                '06:00',\n",
    "                '09:00',\n",
    "                '12:00',\n",
    "                '15:00',\n",
    "                '18:00',\n",
    "                '21:00',\n",
    "            ],\n",
    "            'grid':['0.25', '0.25'],\n",
    "            \"area\":[90,-180,60,180],\n",
    "        },\n",
    "        f'/media/robbie/TOSHIBA EXT/E5/{year}_b.nc')"
   ]
  },
  {
   "cell_type": "code",
   "execution_count": 1,
   "id": "f9c88858",
   "metadata": {},
   "outputs": [
    {
     "data": {
      "text/plain": [
       "<class 'netCDF4._netCDF4.Dataset'>\n",
       "root group (NETCDF3_64BIT_OFFSET data model, file format NETCDF3):\n",
       "    Conventions: CF-1.6\n",
       "    history: 2021-03-05 11:03:38 GMT by grib_to_netcdf-2.16.0: /opt/ecmwf/eccodes/bin/grib_to_netcdf -S param -o /cache/data5/adaptor.mars.internal-1614942158.6940749-3253-8-845b5273-6026-4abc-afa0-80195bd258c6.nc /cache/tmp/845b5273-6026-4abc-afa0-80195bd258c6-adaptor.mars.internal-1614942158.694532-3253-2-tmp.grib\n",
       "    dimensions(sizes): longitude(1440), latitude(121), time(472)\n",
       "    variables(dimensions): float32 \u001b[4mlongitude\u001b[0m(longitude), float32 \u001b[4mlatitude\u001b[0m(latitude), int32 \u001b[4mtime\u001b[0m(time), int16 \u001b[4mu10\u001b[0m(time,latitude,longitude), int16 \u001b[4mv10\u001b[0m(time,latitude,longitude), int16 \u001b[4mt2m\u001b[0m(time,latitude,longitude), int16 \u001b[4mmsl\u001b[0m(time,latitude,longitude)\n",
       "    groups: "
      ]
     },
     "execution_count": 1,
     "metadata": {},
     "output_type": "execute_result"
    }
   ],
   "source": [
    "from netCDF4 import Dataset\n",
    "\n",
    "Dataset('/media/robbie/TOSHIBA EXT/E5/2021.nc')"
   ]
  },
  {
   "cell_type": "code",
   "execution_count": 2,
   "id": "17157b26",
   "metadata": {},
   "outputs": [
    {
     "data": {
      "text/plain": [
       "<class 'netCDF4._netCDF4.Dataset'>\n",
       "root group (NETCDF3_64BIT_OFFSET data model, file format NETCDF3):\n",
       "    Conventions: CF-1.6\n",
       "    history: 2021-06-17 20:35:10 GMT by grib_to_netcdf-2.16.0: /opt/ecmwf/eccodes/bin/grib_to_netcdf -S param -o /cache/data4/adaptor.mars.internal-1623962063.1966465-24720-26-83e0130f-4b6d-44a3-baf5-655fa848fda8.nc /cache/tmp/83e0130f-4b6d-44a3-baf5-655fa848fda8-adaptor.mars.internal-1623962063.1973703-24720-8-tmp.grib\n",
       "    dimensions(sizes): longitude(1440), latitude(121), time(472)\n",
       "    variables(dimensions): float32 \u001b[4mlongitude\u001b[0m(longitude), float32 \u001b[4mlatitude\u001b[0m(latitude), int32 \u001b[4mtime\u001b[0m(time), int16 \u001b[4mu10\u001b[0m(time,latitude,longitude), int16 \u001b[4mv10\u001b[0m(time,latitude,longitude), int16 \u001b[4mt2m\u001b[0m(time,latitude,longitude), int16 \u001b[4mmsl\u001b[0m(time,latitude,longitude)\n",
       "    groups: "
      ]
     },
     "execution_count": 2,
     "metadata": {},
     "output_type": "execute_result"
    }
   ],
   "source": [
    "\n",
    "Dataset('/media/robbie/TOSHIBA EXT/E5/2021_b.nc')"
   ]
  }
 ],
 "metadata": {
  "kernelspec": {
   "display_name": "Python 3",
   "language": "python",
   "name": "python3"
  },
  "language_info": {
   "codemirror_mode": {
    "name": "ipython",
    "version": 3
   },
   "file_extension": ".py",
   "mimetype": "text/x-python",
   "name": "python",
   "nbconvert_exporter": "python",
   "pygments_lexer": "ipython3",
   "version": "3.7.10"
  }
 },
 "nbformat": 4,
 "nbformat_minor": 5
}
