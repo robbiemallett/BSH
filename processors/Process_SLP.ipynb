{
 "cells": [
  {
   "cell_type": "code",
   "execution_count": 1,
   "metadata": {},
   "outputs": [],
   "source": [
    "%config Completer.use_jedi = False"
   ]
  },
  {
   "cell_type": "code",
   "execution_count": 2,
   "metadata": {},
   "outputs": [
    {
     "name": "stderr",
     "output_type": "stream",
     "text": [
      "/home/robbie/anaconda3/lib/python3.7/site-packages/pyproj/crs/crs.py:53: FutureWarning: '+init=<authority>:<code>' syntax is deprecated. '<authority>:<code>' is the preferred initialization method. When making the change, be mindful of axis order changes: https://pyproj4.github.io/pyproj/stable/gotchas.html#axis-order-changes-in-proj-6\n",
      "  return _prepare_from_string(\" \".join(pjargs))\n",
      "/home/robbie/anaconda3/lib/python3.7/site-packages/pyproj/crs/crs.py:294: FutureWarning: '+init=<authority>:<code>' syntax is deprecated. '<authority>:<code>' is the preferred initialization method. When making the change, be mindful of axis order changes: https://pyproj4.github.io/pyproj/stable/gotchas.html#axis-order-changes-in-proj-6\n",
      "  projstring = _prepare_from_string(\" \".join((projstring, projkwargs)))\n"
     ]
    }
   ],
   "source": [
    "import cartopy.crs as ccrs\n",
    "import cartopy.feature as cfeature\n",
    "import matplotlib.pyplot as plt\n",
    "import numpy as np\n",
    "import cartopy.crs as ccrs\n",
    "import cartopy\n",
    "from mpl_toolkits.axes_grid1 import make_axes_locatable\n",
    "import xarray as xr\n",
    "import matplotlib.animation as animation\n",
    "from IPython import display\n",
    "import tqdm\n",
    "import metpy.calc as mpcalc\n",
    "from metpy.cbook import get_test_data\n",
    "from metpy.interpolate import cross_section\n",
    "from metpy.units import units\n",
    "import pickle\n",
    "from regrid import regrid\n",
    "from netCDF4 import Dataset\n",
    "import numpy as np\n",
    "import datetime\n",
    "from calendar import monthrange\n",
    "import mask\n",
    "from cartoplot import cartoplot"
   ]
  },
  {
   "cell_type": "markdown",
   "metadata": {},
   "source": [
    "# Get generic data"
   ]
  },
  {
   "cell_type": "code",
   "execution_count": 4,
   "metadata": {},
   "outputs": [],
   "source": [
    "e0 = datetime.date(1900,1,1)\n",
    "\n",
    "with Dataset('/media/robbie/Brokendrive/E5/ERA_nh_1973_12.nc') as ERA5_data:\n",
    "    lons = np.array(ERA5_data['longitude'])\n",
    "    lats = np.array(ERA5_data['latitude'])\n",
    "    \n",
    "ERA5_lon_grid = np.array([np.array(lons), ] * 121)\n",
    "\n",
    "ERA5_lat_grid = np.array([np.array(lats), ] * 1440).T\n",
    "\n",
    "area_weighting = np.cos(np.radians(ERA5_lat_grid))"
   ]
  },
  {
   "cell_type": "code",
   "execution_count": 5,
   "metadata": {},
   "outputs": [],
   "source": [
    "mymask, elons, elats = mask.get('mask'), mask.get('lon'), mask.get('lat')\n",
    "\n",
    "ERA_mask = regrid(mymask,elons,elats,ERA5_lon_grid,ERA5_lat_grid)\n",
    "\n",
    "ones = np.ones(ERA5_lon_grid.shape)\n",
    "\n",
    "m = np.ma.masked_where(np.isin(ERA_mask,[8,\n",
    "                                            9,\n",
    "                                            10,11,12,13,15],invert=True), ones)\n",
    "m = np.ma.filled(m, 0)\n",
    "\n",
    "area_weighting_m = np.multiply(area_weighting, m)"
   ]
  },
  {
   "cell_type": "code",
   "execution_count": 6,
   "metadata": {},
   "outputs": [],
   "source": [
    "mon_weight_m = np.swapaxes(np.repeat(area_weighting_m[:,:,np.newaxis],31*8,axis=2).T,1,2)\n",
    "mon_weight = np.swapaxes(np.repeat(area_weighting[:,:,np.newaxis],31*8,axis=2).T,1,2)"
   ]
  },
  {
   "cell_type": "code",
   "execution_count": 7,
   "metadata": {},
   "outputs": [],
   "source": [
    "data_dir = '/home/robbie/Dropbox/beaufort_sea/monthly_mean_slp/'"
   ]
  },
  {
   "cell_type": "markdown",
   "metadata": {},
   "source": [
    "# Process annual ERA5 files\n",
    "\n",
    "## This code makes a dict for each year of mean SLP's above 60 degrees"
   ]
  },
  {
   "cell_type": "code",
   "execution_count": 9,
   "metadata": {
    "scrolled": true
   },
   "outputs": [
    {
     "name": "stderr",
     "output_type": "stream",
     "text": [
      "\r",
      "  0%|          | 0/43 [00:00<?, ?it/s]"
     ]
    }
   ],
   "source": [
    "years = tqdm.trange(1979,2022)\n",
    "\n",
    "years = [2021]\n",
    "\n",
    "for year in years:\n",
    "    \n",
    "    times_daily = {}\n",
    "    mean_slps_daily = {}\n",
    "    mean_slps_daily_m = {}\n",
    "    mean_slp_pattern = {}\n",
    "#     max_slps_daily = {}\n",
    "    \n",
    "#     print(year)\n",
    "    with Dataset(f'/media/robbie/TOSHIBA EXT/E5/{year}.nc') as ERA5_data:\n",
    "\n",
    "        d=0\n",
    "        \n",
    "        months_to_analyse = [12,1,2] if year < 2021 else [1,2]\n",
    "        \n",
    "        for month in np.arange(1,13):\n",
    "            \n",
    "            days_in_month = monthrange(year,month)[1]            \n",
    "            \n",
    "            if month in months_to_analyse:\n",
    "            \n",
    "#                 if year != 2020:\n",
    "\n",
    "                slp = np.array(ERA5_data['msl'][d*8:(d+days_in_month)*8])\n",
    "\n",
    "\n",
    "#                 elif (year == 2020) & (month < 12):\n",
    "\n",
    "#                     slp = np.array(ERA5_data['msl'][d*8:(d+days_in_month)*8,0])\n",
    "\n",
    "#                 else:            \n",
    "\n",
    "#                     slp = np.array(ERA5_data['msl'][d*8:(d+days_in_month)*8,1])\n",
    "\n",
    "                # slp is now a 31x1440x140 np array\n",
    "\n",
    "                m_weights = mon_weight[:slp.shape[0]]\n",
    "                \n",
    "                m_weights_mask = mon_weight_m[:slp.shape[0]]\n",
    "\n",
    "                slp_mean = np.average(slp,\n",
    "                                      weights=m_weights,\n",
    "                                      axis=(1,2))\n",
    "                \n",
    "                slp_mean_mask = np.average(slp,\n",
    "                                      weights=m_weights_mask,\n",
    "                                      axis=(1,2))\n",
    "\n",
    "#                 slp_max = np.max(slp)\n",
    "\n",
    "                t = np.array(ERA5_data['time'][d*8:(d+days_in_month)*8])\n",
    "\n",
    "                times_daily[month]=t\n",
    "                mean_slps_daily[month]=slp_mean\n",
    "                mean_slps_daily_m[month]=slp_mean_mask\n",
    "                mean_slp_pattern[month] = np.nanmean(slp,axis=0)\n",
    "\n",
    "            d+=days_in_month\n",
    "            \n",
    "    \n",
    "    mean_slp_dict = {'mean_slps':mean_slps_daily,\n",
    "                     'mean_slp_pattern':mean_slp_pattern,\n",
    "                     'mean_slps_m':mean_slps_daily_m,\n",
    "                     'times':times_daily}\n",
    "    \n",
    "    pickle.dump(mean_slp_dict, open(f'{data_dir}{year}_mean_slp.p','wb'))\n"
   ]
  },
  {
   "cell_type": "code",
   "execution_count": null,
   "metadata": {},
   "outputs": [],
   "source": []
  }
 ],
 "metadata": {
  "kernelspec": {
   "display_name": "Python 3",
   "language": "python",
   "name": "python3"
  },
  "language_info": {
   "codemirror_mode": {
    "name": "ipython",
    "version": 3
   },
   "file_extension": ".py",
   "mimetype": "text/x-python",
   "name": "python",
   "nbconvert_exporter": "python",
   "pygments_lexer": "ipython3",
   "version": "3.7.10"
  }
 },
 "nbformat": 4,
 "nbformat_minor": 4
}
